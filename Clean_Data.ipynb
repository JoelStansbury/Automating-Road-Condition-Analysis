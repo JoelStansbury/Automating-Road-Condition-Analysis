{
 "cells": [
  {
   "cell_type": "markdown",
   "metadata": {},
   "source": [
    "## Import Modules"
   ]
  },
  {
   "cell_type": "code",
   "execution_count": 1,
   "metadata": {},
   "outputs": [],
   "source": [
    "import numpy as np\n",
    "import matplotlib.pyplot as plt\n",
    "import os\n",
    "import csv\n",
    "import pickle"
   ]
  },
  {
   "cell_type": "markdown",
   "metadata": {},
   "source": [
    "#### CSVs\n",
    "* Naming Convention: mm_dd_yyyy_hh_mm_ss"
   ]
  },
  {
   "cell_type": "code",
   "execution_count": 2,
   "metadata": {},
   "outputs": [
    {
     "name": "stdout",
     "output_type": "stream",
     "text": [
      "['03_01_2019_02_36_27.txt', '03_02_2019_09_07_22.txt', '03_02_2019_08_28_44.txt', '03_01_2019_02_45_21.txt', '03_02_2019_08_10_00.txt', '03_02_2019_08_41_24.txt', '03_02_2019_08_54_53.txt']\n"
     ]
    }
   ],
   "source": [
    "raw_folder= \"../csvs/\"\n",
    "clean_folder = '../cleaned_pickles/'\n",
    "filenames = os.listdir(raw_folder)\n",
    "print(filenames)"
   ]
  },
  {
   "cell_type": "markdown",
   "metadata": {},
   "source": [
    "## Import CSV\n",
    "* -9999 denotes \"no value\"\n",
    "* Returns dict with keys() = Latitude, Longitude, Altitude, Speed, XAcceleration, YAcceleration, ZAcceleration, Time"
   ]
  },
  {
   "cell_type": "code",
   "execution_count": 3,
   "metadata": {},
   "outputs": [],
   "source": [
    "def import_csv(filename):\n",
    "    data = {}\n",
    "    with open(filename, newline='\\n') as csvfile:\n",
    "        lines = list(csv.reader(csvfile, delimiter=',', quotechar='|'))\n",
    "        headers = lines[0]\n",
    "        values = lines[1:]\n",
    "        for c in headers:\n",
    "            data[c] = []\n",
    "        i = 0\n",
    "        foundGPS = False\n",
    "        start_time = 0\n",
    "        for row in values:\n",
    "            if not foundGPS and row[0] == '':\n",
    "                i = i+1\n",
    "            elif not foundGPS:\n",
    "                foundGPS = True\n",
    "                start_time = float(row[7])\n",
    "            else:\n",
    "                pass\n",
    "        values = values[i:] # Throw out points until first GPS datapoint\n",
    "        for row in values:\n",
    "            for i in range(len(headers)):\n",
    "                if row[i] == '':\n",
    "                    data[headers[i]].append(-9999)\n",
    "                else:\n",
    "                    data[headers[i]].append(float(row[i]))\n",
    "        \n",
    "        c = len(lines[0])\n",
    "#         data[\"Time\"] = np.array(data[\"Time\"])-start_time\n",
    "        data[\"Time\"] = np.array(data[\"Time\"])\n",
    "    return data"
   ]
  },
  {
   "cell_type": "code",
   "execution_count": 4,
   "metadata": {},
   "outputs": [],
   "source": [
    "def save_as_csv(dictionary, filename):\n",
    "    with open(filename, 'w') as f:\n",
    "        \n",
    "        headers = list(dictionary.keys())\n",
    "        \n",
    "        for header in headers:\n",
    "            f.write(header+',')\n",
    "        f.write('\\n')\n",
    "        \n",
    "        for i in range(len(dictionary[header])):\n",
    "            for h in headers:\n",
    "                f.write(str(dictionary[h][i])+',')\n",
    "            f.write('\\n')"
   ]
  },
  {
   "cell_type": "code",
   "execution_count": 5,
   "metadata": {},
   "outputs": [
    {
     "name": "stdout",
     "output_type": "stream",
     "text": [
      "['Latitude', 'Longitude', 'Altitude', 'Speed', 'XAcceleration', 'YAcceleration', 'ZAcceleration', 'Time']\n"
     ]
    }
   ],
   "source": [
    "data = import_csv(raw_folder+filenames[0])\n",
    "print(list(data.keys()))"
   ]
  },
  {
   "cell_type": "markdown",
   "metadata": {},
   "source": [
    "## Cleaning Process\n",
    "The GPS module updates about once every second, and only when in motion, while the Accelerometer updates about 5 times per second. So, about 4/5 of the rows in the raw CSV file have no GPS coordinates associated with them. To correct for this we need to estimate the GPS information whenever acceleration is updated and GPS is not\n",
    "* Perfoms Linear interpolation to approximate Lat. Long. inbetween GPS datapoints"
   ]
  },
  {
   "cell_type": "code",
   "execution_count": 6,
   "metadata": {},
   "outputs": [],
   "source": [
    "class Piecewise:\n",
    "    def __init__(self, time, values):\n",
    "        time = np.array(time)\n",
    "        values = np.array(values)\n",
    "        x = []\n",
    "        y = []\n",
    "        for i in range(time.shape[0]):\n",
    "            if not values[i] == -9999:\n",
    "                x.append(time[i])\n",
    "                y.append(values[i])\n",
    "        self.x = np.array(x)\n",
    "        self.y = np.array(y)\n",
    "    \n",
    "    # t = number or arraylike\n",
    "    def __call__(self, t):\n",
    "        return np.interp(t, self.x, self.y)\n",
    "\n",
    "\n",
    "    "
   ]
  },
  {
   "cell_type": "code",
   "execution_count": 7,
   "metadata": {},
   "outputs": [],
   "source": [
    "def populate_missing(data, time = 'none'):\n",
    "    new = {}\n",
    "    if time == 'none':\n",
    "        for c in list(data.keys()):\n",
    "            new[c] = Piecewise(data[\"Time\"],data[c])(data[\"Time\"])\n",
    "    else:\n",
    "        for c in list(data.keys()):\n",
    "            new[c] = Piecewise(data[\"Time\"],data[c])(time)\n",
    "    return new"
   ]
  },
  {
   "cell_type": "code",
   "execution_count": 8,
   "metadata": {},
   "outputs": [],
   "source": [
    "clean = populate_missing(data)"
   ]
  },
  {
   "cell_type": "markdown",
   "metadata": {},
   "source": [
    "### Mising values have been interpolated"
   ]
  },
  {
   "cell_type": "code",
   "execution_count": 9,
   "metadata": {},
   "outputs": [
    {
     "data": {
      "image/png": "[encoded data removed]",
      "text/plain": [
       "<Figure size 432x288 with 1 Axes>"
      ]
     },
     "metadata": {
      "needs_background": "light"
     },
     "output_type": "display_data"
    },
    {
     "data": {
      "image/png": "[encoded data removed]",
      "text/plain": [
       "<Figure size 432x288 with 1 Axes>"
      ]
     },
     "metadata": {
      "needs_background": "light"
     },
     "output_type": "display_data"
    }
   ],
   "source": [
    "plt.plot(data[\"Altitude\"])\n",
    "plt.ylim(min(clean[\"Altitude\"]),max(data[\"Altitude\"]))\n",
    "plt.title(\"Raw\")\n",
    "plt.show()\n",
    "plt.plot(clean[\"Altitude\"])\n",
    "plt.ylim(min(clean[\"Altitude\"]),max(data[\"Altitude\"]))\n",
    "plt.title(\"Processed\")\n",
    "plt.show()"
   ]
  },
  {
   "cell_type": "markdown",
   "metadata": {},
   "source": [
    "### Columns that were already fully populated remain unchanged"
   ]
  },
  {
   "cell_type": "code",
   "execution_count": 10,
   "metadata": {},
   "outputs": [
    {
     "data": {
      "image/png": "[encoded data removed]",
      "text/plain": [
       "<Figure size 432x288 with 1 Axes>"
      ]
     },
     "metadata": {
      "needs_background": "light"
     },
     "output_type": "display_data"
    },
    {
     "data": {
      "image/png": "[encoded data removed]",
      "text/plain": [
       "<Figure size 432x288 with 1 Axes>"
      ]
     },
     "metadata": {
      "needs_background": "light"
     },
     "output_type": "display_data"
    }
   ],
   "source": [
    "plt.plot(data[\"XAcceleration\"])\n",
    "plt.ylim(min(clean[\"XAcceleration\"]),max(data[\"XAcceleration\"]))\n",
    "plt.title(\"Raw\")\n",
    "plt.show()\n",
    "plt.plot(clean[\"XAcceleration\"])\n",
    "plt.ylim(min(clean[\"XAcceleration\"]),max(data[\"XAcceleration\"]))\n",
    "plt.title(\"Processed\")\n",
    "plt.show()\n"
   ]
  },
  {
   "cell_type": "markdown",
   "metadata": {},
   "source": [
    "## Iterate over all CSVs\n",
    "* save cleaned data as a pickle containing a python dict{}"
   ]
  },
  {
   "cell_type": "code",
   "execution_count": 11,
   "metadata": {},
   "outputs": [],
   "source": [
    "# def scrub_all(files):\n",
    "#     for file in files:\n",
    "#         raw = import_csv(raw_folder+file)\n",
    "#         clean = populate_missing(raw)\n",
    "#         output = open(clean_folder+file[:-4]+\".pkl\", 'wb')\n",
    "#         pickle.dump(clean, output)\n",
    "#         output.close()\n",
    "    "
   ]
  },
  {
   "cell_type": "code",
   "execution_count": 12,
   "metadata": {},
   "outputs": [],
   "source": [
    "# scrub_all(filenames)"
   ]
  },
  {
   "cell_type": "code",
   "execution_count": 13,
   "metadata": {},
   "outputs": [],
   "source": [
    "def heading_angle(lat1,lat2,lon1,lon2):\n",
    "    delta_lat = lat1-lat2\n",
    "    delta_lon = lon1-lon2\n",
    "    X = np.cos(np.deg2rad(lat2))*np.sin(np.deg2rad(lon2-lon1))\n",
    "    Y = np.cos(np.deg2rad(lat1))*np.sin(np.deg2rad(lat2))- np.sin(np.deg2rad(lat1))*np.cos(np.deg2rad(lat2)) * np.cos(np.deg2rad(lon2-lon1))\n",
    "    angle = np.arctan2(X,Y)*360/(2*np.pi)\n",
    "    \n",
    "    return angle\n",
    "\n",
    "def heading(latitude, longitude, t):\n",
    "    lat1 = latitude(t)\n",
    "    lat2 = latitude(t+1000)\n",
    "    lon1 = longitude(t)\n",
    "    lon2 = longitude(t+1000)\n",
    "    \n",
    "    return heading_angle(lat1,lat2,lon1,lon2)"
   ]
  },
  {
   "cell_type": "code",
   "execution_count": 14,
   "metadata": {},
   "outputs": [
    {
     "name": "stdout",
     "output_type": "stream",
     "text": [
      "96.51262423499931\n"
     ]
    }
   ],
   "source": [
    "print(heading_angle(39.099912,38.627089,-94.581213,-90.200203))"
   ]
  },
  {
   "cell_type": "code",
   "execution_count": 15,
   "metadata": {},
   "outputs": [
    {
     "name": "stdout",
     "output_type": "stream",
     "text": [
      "[ 34.05171571 -83.92720987  40.57998451]\n"
     ]
    }
   ],
   "source": [
    "infile = open('labels.pkl','rb')\n",
    "labels = pickle.load(infile)\n",
    "infile.close()\n",
    "\n",
    "output = []\n",
    "for l in labels:\n",
    "    l = l[:-4].split('__')\n",
    "    file_name = l[0]\n",
    "    time = float(l[1])*1000\n",
    "    csv_name = file_name+'.txt'\n",
    "    raw = import_csv(raw_folder+csv_name)\n",
    "    d = populate_missing(raw)\n",
    "    \n",
    "    lat_csv = d['Latitude']\n",
    "    lon_csv = d['Longitude']\n",
    "    t_csv   = d['Time']\n",
    "    \n",
    "    lat_p = Piecewise(t_csv, lat_csv)\n",
    "    lon_p = Piecewise(t_csv, lon_csv)\n",
    "    \n",
    "    lat = lat_p(time)\n",
    "    lon = lon_p(time)\n",
    "    \n",
    "    h = heading(lat_p, lon_p, time)\n",
    "    \n",
    "    output.append([lat,lon, h])\n",
    "\n",
    "    \n",
    "    \n",
    "output = np.array(output)\n",
    "\n",
    "out_dict = {}\n",
    "out_dict[\"Latitude\"] = output[:,0]\n",
    "out_dict[\"Longitude\"] = output[:,1]\n",
    "out_dict[\"Heading\"] = output[:,2]\n",
    "\n",
    "############ TODO ###############\n",
    "# Add \"Classification to out_dict\"\n",
    "\n",
    "\n",
    "print(output[0])"
   ]
  },
  {
   "cell_type": "code",
   "execution_count": 16,
   "metadata": {},
   "outputs": [
    {
     "name": "stdout",
     "output_type": "stream",
     "text": [
      "[ 40.57998451  14.64587014  -9.55323955 -12.91763016 -10.26781236\n",
      "   0.           2.63524219  33.94362816  34.77638097  32.16764622]\n"
     ]
    }
   ],
   "source": [
    "print(out_dict[\"Heading\"][:10])"
   ]
  },
  {
   "cell_type": "code",
   "execution_count": 17,
   "metadata": {},
   "outputs": [],
   "source": [
    "save_as_csv(out_dict,'output.csv')"
   ]
  },
  {
   "cell_type": "code",
   "execution_count": null,
   "metadata": {},
   "outputs": [],
   "source": []
  }
 ],
 "metadata": {
  "kernelspec": {
   "display_name": "Python 3",
   "language": "python",
   "name": "python3"
  },
  "language_info": {
   "codemirror_mode": {
    "name": "ipython",
    "version": 3
   },
   "file_extension": ".py",
   "mimetype": "text/x-python",
   "name": "python",
   "nbconvert_exporter": "python",
   "pygments_lexer": "ipython3",
   "version": "3.7.1"
  }
 },
 "nbformat": 4,
 "nbformat_minor": 2
}
