{
 "cells": [
  {
   "cell_type": "code",
   "execution_count": 1,
   "metadata": {},
   "outputs": [],
   "source": [
    "import numpy as np\n",
    "import matplotlib.pyplot as plt\n",
    "import os\n",
    "import pickle\n",
    "import moviepy.editor as mp\n",
    "from python_speech_features import mfcc, logfbank\n",
    "from tqdm import tqdm\n",
    "import sklearn.mixture\n",
    "from sklearn.decomposition import TruncatedSVD\n",
    "\n",
    "infile = open('training_data.pkl', 'rb')\n",
    "data = pickle.load(infile)\n",
    "infile.close()\n",
    "data = np.array(data)\n",
    "\n",
    "\n",
    "n_features = 10\n",
    "n_components = 4"
   ]
  },
  {
   "cell_type": "code",
   "execution_count": 2,
   "metadata": {},
   "outputs": [
    {
     "name": "stdout",
     "output_type": "stream",
     "text": [
      "(187, 256)\n"
     ]
    }
   ],
   "source": [
    "# Normalize\n",
    "print(data.shape)\n",
    "def normalize(matrix):\n",
    "    min_ = matrix.min(0)\n",
    "    max_ = matrix.max(0)\n",
    "    return np.divide((matrix - min_),max_)\n",
    "\n",
    "n_data = normalize(data)"
   ]
  },
  {
   "cell_type": "markdown",
   "metadata": {},
   "source": [
    "### SVD dimensionality reduction"
   ]
  },
  {
   "cell_type": "code",
   "execution_count": 3,
   "metadata": {},
   "outputs": [],
   "source": [
    "svd = TruncatedSVD(n_components=n_features, n_iter = 7)\n",
    "X = svd.fit_transform(n_data)"
   ]
  },
  {
   "cell_type": "code",
   "execution_count": 4,
   "metadata": {},
   "outputs": [
    {
     "name": "stdout",
     "output_type": "stream",
     "text": [
      "(187, 10)\n"
     ]
    }
   ],
   "source": [
    "print(X.shape)"
   ]
  },
  {
   "cell_type": "markdown",
   "metadata": {},
   "source": [
    "### GMM classification algorithm"
   ]
  },
  {
   "cell_type": "code",
   "execution_count": 5,
   "metadata": {},
   "outputs": [],
   "source": [
    "model = sklearn.mixture.GaussianMixture(n_components)\n",
    "Y = model.fit_predict(X)"
   ]
  },
  {
   "cell_type": "code",
   "execution_count": 6,
   "metadata": {},
   "outputs": [
    {
     "name": "stdout",
     "output_type": "stream",
     "text": [
      "(187,)\n"
     ]
    },
    {
     "data": {
      "image/png": "[encoded data removed]",
      "text/plain": [
       "<Figure size 432x288 with 1 Axes>"
      ]
     },
     "metadata": {
      "needs_background": "light"
     },
     "output_type": "display_data"
    }
   ],
   "source": [
    "print(Y.shape)\n",
    "for i in range(n_components):\n",
    "    mask = np.where(Y==i)[0]\n",
    "    X0_masked = (X[:,0][mask])\n",
    "    X1_masked = (X[:,1][mask])\n",
    "    plt.scatter(X0_masked,X1_masked, marker = '.', linewidth = 0.001)\n"
   ]
  },
  {
   "cell_type": "code",
   "execution_count": null,
   "metadata": {},
   "outputs": [],
   "source": []
  },
  {
   "cell_type": "code",
   "execution_count": 7,
   "metadata": {},
   "outputs": [],
   "source": [
    "import csv\n",
    "\n",
    "def import_csv(filename):\n",
    "    data = {}\n",
    "    with open(filename, newline='\\n') as csvfile:\n",
    "        lines = list(csv.reader(csvfile, delimiter=',', quotechar='|'))\n",
    "        headers = lines[0]\n",
    "        values = lines[1:]\n",
    "        for c in headers[:-1]:\n",
    "            data[c] = []\n",
    "\n",
    "        for row in values:\n",
    "            for i in range(len(headers)-1):\n",
    "                data[headers[i]].append(float(row[i]))\n",
    "    return data\n",
    "\n",
    "def save_as_csv(dictionary, filename):\n",
    "    with open(filename, 'w') as f:\n",
    "        \n",
    "        headers = list(dictionary.keys())\n",
    "        \n",
    "        for header in headers:\n",
    "            f.write(header+',')\n",
    "        f.write('\\n')\n",
    "        \n",
    "        for i in range(len(dictionary[header])):\n",
    "            for h in headers:\n",
    "                f.write(str(dictionary[h][i])+',')\n",
    "            f.write('\\n')"
   ]
  },
  {
   "cell_type": "code",
   "execution_count": 8,
   "metadata": {},
   "outputs": [],
   "source": [
    "data = import_csv('output.csv')\n",
    "data['Label'] = Y\n",
    "save_as_csv(data,'output.csv')\n",
    "save_as_csv(data,'../../Website/output.csv')"
   ]
  },
  {
   "cell_type": "code",
   "execution_count": null,
   "metadata": {},
   "outputs": [],
   "source": []
  }
 ],
 "metadata": {
  "kernelspec": {
   "display_name": "Python 3",
   "language": "python",
   "name": "python3"
  },
  "language_info": {
   "codemirror_mode": {
    "name": "ipython",
    "version": 3
   },
   "file_extension": ".py",
   "mimetype": "text/x-python",
   "name": "python",
   "nbconvert_exporter": "python",
   "pygments_lexer": "ipython3",
   "version": "3.7.1"
  }
 },
 "nbformat": 4,
 "nbformat_minor": 2
}
