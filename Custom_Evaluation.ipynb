{
 "cells": [
  {
   "cell_type": "code",
   "execution_count": 122,
   "metadata": {},
   "outputs": [],
   "source": [
    "# Import necessary libraries\n",
    "\n",
    "import numpy as np\n",
    "import matplotlib.pyplot as plt\n",
    "import sklearn.cluster\n",
    "\n",
    "# import os\n",
    "# import pickle\n",
    "# from tqdm import tqdm\n",
    "# import scipy.signal\n",
    "# import csv      \n",
    "# import numpy.random as nprd\n",
    "# import numpy.linalg as npla"
   ]
  },
  {
   "cell_type": "code",
   "execution_count": 123,
   "metadata": {},
   "outputs": [],
   "source": [
    "# Create matrix from csv file containing anomaly data\n",
    "\n",
    "def creatematrix(filename):\n",
    "    matrix = np.genfromtxt(filename, delimiter=',', skip_header=1)\n",
    "    return matrix"
   ]
  },
  {
   "cell_type": "code",
   "execution_count": 124,
   "metadata": {},
   "outputs": [
    {
     "data": {
      "text/plain": [
       "(-83.928, -83.926)"
      ]
     },
     "execution_count": 124,
     "metadata": {},
     "output_type": "execute_result"
    },
    {
     "data": {
      "image/png": "[encoded data removed]",
      "text/plain": [
       "<Figure size 432x288 with 1 Axes>"
      ]
     },
     "metadata": {
      "needs_background": "light"
     },
     "output_type": "display_data"
    }
   ],
   "source": [
    "# Sample scatterplot of anomalies by location\n",
    "\n",
    "mtx = creatematrix(\"output.csv\")\n",
    "# print(mtx)\n",
    "x = mtx[:,1]  # longitudes in 2nd col of matrix\n",
    "y = mtx[:,0]  # latitudes in 1st col\n",
    "plt.scatter(x, y, marker='.', c=labels, cmap=\"Spectral\")\n",
    "plt.ylim((34.051, 34.054))\n",
    "plt.xlim((-83.928, -83.926))"
   ]
  },
  {
   "cell_type": "code",
   "execution_count": 125,
   "metadata": {},
   "outputs": [
    {
     "name": "stdout",
     "output_type": "stream",
     "text": [
      "187\n",
      "[ 0  1  2  3  4  5  6  7  8  9 10 11 12 13 11 14 13 15 16 17 18 19 17 20\n",
      " 21 22 22 15 15 11 14 10  9 23  0  1  2  4  6  8  9 10 11 12 14 13 13 15\n",
      " 22 20]\n"
     ]
    }
   ],
   "source": [
    "# Perform spatial clustering and get cluster labels for each anomaly\n",
    "\n",
    "dbscan = sklearn.cluster.DBSCAN(eps=0.0002, min_samples=1)\n",
    "labels = dbscan.fit_predict(mtx[:,:1])\n",
    "print(len(labels))   # Number of anomalies\n",
    "print(labels[:50])   # Labels for first 50 anomalies"
   ]
  },
  {
   "cell_type": "code",
   "execution_count": 129,
   "metadata": {},
   "outputs": [
    {
     "name": "stdout",
     "output_type": "stream",
     "text": [
      "Number of clusters:  45 \n",
      "\n",
      "5\n",
      "5\n",
      "4\n",
      "4\n",
      "3\n",
      "2\n",
      "4\n",
      "1\n",
      "7\n",
      "10\n",
      "8\n",
      "16\n",
      "6\n",
      "10\n",
      "6\n",
      "12\n",
      "3\n",
      "7\n",
      "5\n",
      "9\n",
      "7\n",
      "2\n",
      "8\n",
      "5\n",
      "2\n",
      "4\n",
      "2\n",
      "2\n",
      "1\n",
      "3\n",
      "2\n",
      "1\n",
      "3\n",
      "2\n",
      "2\n",
      "2\n",
      "2\n",
      "1\n",
      "1\n",
      "2\n",
      "1\n",
      "2\n",
      "1\n",
      "1\n",
      "\n",
      "Average cluster size:  4.2272727272727275\n"
     ]
    }
   ],
   "source": [
    "sizes = []\n",
    "cluster_count = labels.max()   # Number of clusters minus 1\n",
    "print(\"Number of clusters: \", cluster_count+1, \"\\n\")\n",
    "for i in range(cluster_count):\n",
    "    indices = np.where(labels==i)[0]   # Indices of anomalies with same label (in same cluster)\n",
    "    cluster_size = len(indices)   # Count indices to get cluster size\n",
    "    print(cluster_size)\n",
    "    sizes.append(cluster_size)  \n",
    "    \n",
    "    # Check\n",
    "#     if i==15:\n",
    "#         print(np.where(labels==i))\n",
    "#         print(indices)   \n",
    "#         print(len(indices))\n",
    "sizes = np.array(sizes)\n",
    "avg = sizes.mean()\n",
    "print(\"\\nAverage cluster size: \", avg)"
   ]
  },
  {
   "cell_type": "code",
   "execution_count": 130,
   "metadata": {},
   "outputs": [],
   "source": [
    "# Separating by heading\n",
    "\n",
    "same_side = []\n",
    "other_side = []\n",
    "for c in range(cluster_count):\n",
    "    indices = np.where(labels==c)[0]\n",
    "    cluster_size = len(indices)\n",
    "    anom1 = indices[0]   # First anomaly in cluster\n",
    "    heading = mtx[anom1][2]\n",
    "    same_side.append(mtx[anom1])\n",
    "    \n",
    "    # Check\n",
    "#     check = 2\n",
    "#     if c==check:\n",
    "#         print(\"CONTROL\\nIndex: \", anom1)\n",
    "#         print(\"Degree: \", heading, \"\\n\")\n",
    "        \n",
    "    for a in range(cluster_size):\n",
    "        if a==0:\n",
    "            continue  # First anomaly is used for comparison\n",
    "        else:\n",
    "            anom2 = indices[a]\n",
    "            heading2 = mtx[anom2][2]\n",
    "            diff = abs(heading-heading2)\n",
    "            if diff>90 and diff<270:\n",
    "                other_side.append(mtx[anom2])\n",
    "#                 if c==check:\n",
    "#                     print(\"Other side!\")\n",
    "            else:\n",
    "                same_side.append(mtx[anom2])\n",
    "#                 if c==check:\n",
    "#                     print(\"Same side\")\n",
    "                    \n",
    "            # Check\n",
    "#             if c==check:\n",
    "#                 print(\"Index: \", anom2)\n",
    "#                 print(\"Degree: \", heading2)\n",
    "#                 print(\"Diff: \", diff, \"\\n\")\n",
    "\n",
    "same_side = np.array(same_side)\n",
    "other_side = np.array(other_side)"
   ]
  },
  {
   "cell_type": "code",
   "execution_count": 131,
   "metadata": {},
   "outputs": [
    {
     "name": "stdout",
     "output_type": "stream",
     "text": [
      "Number of anomalies on same side:  133\n",
      "Number of clusters (same):  45\n",
      "5\n",
      "5\n",
      "4\n",
      "4\n",
      "3\n",
      "2\n",
      "4\n",
      "1\n",
      "5\n",
      "3\n",
      "2\n",
      "3\n",
      "8\n",
      "5\n",
      "9\n",
      "3\n",
      "4\n",
      "1\n",
      "2\n",
      "3\n",
      "5\n",
      "5\n",
      "3\n",
      "2\n",
      "7\n",
      "5\n",
      "2\n",
      "3\n",
      "1\n",
      "2\n",
      "1\n",
      "1\n",
      "2\n",
      "1\n",
      "2\n",
      "1\n",
      "2\n",
      "1\n",
      "2\n",
      "1\n",
      "1\n",
      "2\n",
      "1\n",
      "2\n",
      "1\n",
      "Average cluster size (same):  2.933333333333333 \n",
      "\n",
      "Number of anomalies on other side:  53\n",
      "Number of clusters (other):  19\n",
      "1\n",
      "1\n",
      "5\n",
      "5\n",
      "8\n",
      "1\n",
      "1\n",
      "3\n",
      "7\n",
      "1\n",
      "4\n",
      "4\n",
      "4\n",
      "1\n",
      "1\n",
      "1\n",
      "2\n",
      "1\n",
      "1\n",
      "Average cluster size (other):  2.736842105263158 \n",
      "\n",
      "New average:  2.8350877192982455\n"
     ]
    }
   ],
   "source": [
    "# Perform spatial clustering on both matrices and recalculate average cluster size\n",
    "\n",
    "dbscan = sklearn.cluster.DBSCAN(eps=0.0002, min_samples=1)\n",
    "\n",
    "# Same side\n",
    "same_labels = dbscan.fit_predict(same_side[:,:1])\n",
    "print(\"Number of anomalies on same side: \", len(same_labels))\n",
    "same_sizes = []\n",
    "same_cluster_count = same_labels.max()\n",
    "print(\"Number of clusters (same): \", same_cluster_count)\n",
    "for i in range(same_cluster_count):\n",
    "    indices = np.where(same_labels==i)[0]\n",
    "    cluster_size = len(indices)\n",
    "    print(cluster_size)\n",
    "    same_sizes.append(cluster_size)   \n",
    "same_sizes = np.array(same_sizes)\n",
    "same_avg = same_sizes.mean()\n",
    "print(\"Average cluster size (same): \", same_avg, \"\\n\")\n",
    "\n",
    "# Other side\n",
    "other_labels = dbscan.fit_predict(other_side[:,:1])\n",
    "print(\"Number of anomalies on other side: \", len(other_labels))\n",
    "other_sizes = []\n",
    "other_cluster_count = other_labels.max()\n",
    "print(\"Number of clusters (other): \", other_cluster_count)\n",
    "for i in range(other_cluster_count):\n",
    "    indices = np.where(other_labels==i)[0]\n",
    "    cluster_size = len(indices)\n",
    "    print(cluster_size)\n",
    "    other_sizes.append(cluster_size)   \n",
    "other_sizes = np.array(other_sizes)\n",
    "other_avg = other_sizes.mean()\n",
    "print(\"Average cluster size (other): \", other_avg, \"\\n\")\n",
    "\n",
    "# New average\n",
    "avgs = np.array([same_avg, other_avg])\n",
    "new_avg = avgs.mean()\n",
    "print(\"New average: \", new_avg)"
   ]
  },
  {
   "cell_type": "code",
   "execution_count": null,
   "metadata": {},
   "outputs": [],
   "source": []
  }
 ],
 "metadata": {
  "kernelspec": {
   "display_name": "Python 3",
   "language": "python",
   "name": "python3"
  },
  "language_info": {
   "codemirror_mode": {
    "name": "ipython",
    "version": 3
   },
   "file_extension": ".py",
   "mimetype": "text/x-python",
   "name": "python",
   "nbconvert_exporter": "python",
   "pygments_lexer": "ipython3",
   "version": "3.7.1"
  }
 },
 "nbformat": 4,
 "nbformat_minor": 2
}
