{
 "cells": [
  {
   "cell_type": "code",
   "execution_count": 13,
   "metadata": {},
   "outputs": [
    {
     "name": "stderr",
     "output_type": "stream",
     "text": [
      "C:\\Users\\Anna Shonia\\Anaconda3\\lib\\site-packages\\sklearn\\metrics\\cluster\\unsupervised.py:342: RuntimeWarning: divide by zero encountered in true_divide\n",
      "  score = (intra_dists[:, None] + intra_dists) / centroid_distances\n"
     ]
    },
    {
     "name": "stdout",
     "output_type": "stream",
     "text": [
      "1.6004179081836094\n"
     ]
    }
   ],
   "source": [
    "import numpy as np\n",
    "import numpy.random as nprd\n",
    "import numpy.linalg as npla\n",
    "import matplotlib.pyplot as plt\n",
    "import os\n",
    "import pickle\n",
    "from tqdm import tqdm\n",
    "import scipy.signal\n",
    "import csv\n",
    "import sklearn.metrics\n",
    "\n",
    "pklfile = open(\"feature_matrix.pkl\", \"rb\")\n",
    "fm = pickle.load(pklfile)\n",
    "pklfile.close()\n",
    "\n",
    "def creatematrix(filename):\n",
    "    matrix = np.genfromtxt(filename, delimiter=',', skip_header=1)\n",
    "    return matrix            \n",
    "\n",
    "def dbscore(matrix, labels):\n",
    "    x = sklearn.metrics.davies_bouldin_score(matrix, labels)\n",
    "    return x\n",
    "\n",
    "      \n",
    "result_m = creatematrix(\"output.txt\")\n",
    "labels = result_m[:,3].astype(int) + 1\n",
    "result_d = dbscore(fm, labels)\n",
    "print(result_d)\n"
   ]
  },
  {
   "cell_type": "code",
   "execution_count": 14,
   "metadata": {},
   "outputs": [
    {
     "name": "stdout",
     "output_type": "stream",
     "text": [
      "0.37762391442145105\n"
     ]
    }
   ],
   "source": [
    "silhouette = sklearn.metrics.silhouette_score(fm, labels)\n",
    "print(silhouette)"
   ]
  },
  {
   "cell_type": "code",
   "execution_count": null,
   "metadata": {},
   "outputs": [],
   "source": []
  }
 ],
 "metadata": {
  "kernelspec": {
   "display_name": "Python 3",
   "language": "python",
   "name": "python3"
  },
  "language_info": {
   "codemirror_mode": {
    "name": "ipython",
    "version": 3
   },
   "file_extension": ".py",
   "mimetype": "text/x-python",
   "name": "python",
   "nbconvert_exporter": "python",
   "pygments_lexer": "ipython3",
   "version": "3.7.1"
  }
 },
 "nbformat": 4,
 "nbformat_minor": 2
}
